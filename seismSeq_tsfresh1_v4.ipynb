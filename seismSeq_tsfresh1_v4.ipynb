{
 "cells": [
  {
   "cell_type": "code",
   "execution_count": null,
   "id": "59a38d29",
   "metadata": {},
   "outputs": [],
   "source": []
  },
  {
   "cell_type": "code",
   "execution_count": 7,
   "id": "384e70f9",
   "metadata": {},
   "outputs": [],
   "source": [
    "%matplotlib inline\n",
    "\n",
    "import numpy as np\n",
    "import pandas as pd\n",
    "\n",
    "import matplotlib.pyplot as plt\n",
    "\n",
    "from tsfresh import extract_features\n",
    "\n",
    "from sklearn.model_selection import train_test_split\n",
    "\n",
    "from sklearn.metrics import accuracy_score, precision_score\n",
    "from sklearn.metrics import recall_score, f1_score, roc_auc_score\n",
    "from sklearn.metrics import confusion_matrix"
   ]
  },
  {
   "cell_type": "code",
   "execution_count": null,
   "id": "e9d64a2a",
   "metadata": {},
   "outputs": [],
   "source": [
    "df = pd.read_csv('../data_seismSeq1/data_seismic_BagnallTimeSeriesClassification.csv')"
   ]
  },
  {
   "cell_type": "code",
   "execution_count": null,
   "id": "e1520b5e",
   "metadata": {},
   "outputs": [],
   "source": [
    "print(df.shape)\n",
    "df.head()"
   ]
  },
  {
   "cell_type": "code",
   "execution_count": null,
   "id": "d75b16e1",
   "metadata": {},
   "outputs": [],
   "source": [
    "df['y'].value_counts()"
   ]
  },
  {
   "cell_type": "code",
   "execution_count": null,
   "id": "bb5ccfb0",
   "metadata": {},
   "outputs": [],
   "source": [
    "df.columns"
   ]
  },
  {
   "cell_type": "code",
   "execution_count": null,
   "id": "88c5ed91",
   "metadata": {},
   "outputs": [],
   "source": [
    "df_X = df.drop('y', axis=1)\n",
    "df_X.columns"
   ]
  },
  {
   "cell_type": "code",
   "execution_count": null,
   "id": "320d3465",
   "metadata": {},
   "outputs": [],
   "source": [
    "# df_X = df_X.reset_index()"
   ]
  },
  {
   "cell_type": "code",
   "execution_count": null,
   "id": "18f99e48",
   "metadata": {},
   "outputs": [],
   "source": [
    "df = df.reset_index()\n",
    "df.head(3)"
   ]
  },
  {
   "cell_type": "code",
   "execution_count": null,
   "id": "e8c3809e",
   "metadata": {},
   "outputs": [],
   "source": [
    "df_melt = pd.melt(df,\n",
    "                  id_vars=['index', 'y'],\n",
    "                  value_vars = df_X.columns,\n",
    "                  var_name = 'seism_hrAvg',\n",
    "                  value_name = 'val'\n",
    "                 )"
   ]
  },
  {
   "cell_type": "code",
   "execution_count": null,
   "id": "1801141b",
   "metadata": {},
   "outputs": [],
   "source": [
    "df_melt.head(3)"
   ]
  },
  {
   "cell_type": "code",
   "execution_count": null,
   "id": "13646b22",
   "metadata": {},
   "outputs": [],
   "source": [
    "#df_viz1.shape\n",
    "#df_viz1 = df_viz1.reset_index(drop=True)"
   ]
  },
  {
   "cell_type": "code",
   "execution_count": null,
   "id": "fe3c4a60",
   "metadata": {},
   "outputs": [],
   "source": [
    "#df_viz1"
   ]
  },
  {
   "cell_type": "code",
   "execution_count": null,
   "id": "e262d499",
   "metadata": {},
   "outputs": [],
   "source": [
    "index_viz = 7\n",
    "df_viz1 = df_melt[df_melt['index'] == index_viz]\n",
    "df_viz1 = df_viz1.reset_index(drop=True)\n",
    "print(df_viz1.shape)\n",
    "#df_viz1['val'].plot()\n",
    "\n",
    "plt.figure(figsize=(15,7))\n",
    "plt.style.use('default')\n",
    "# plt.style.use('seaborn-poster')\n",
    "plt.plot(df_viz1['seism_hrAvg'].astype(float), df_viz1['val'], 'o-')\n",
    "#plt.title(str(index_viz));\n",
    "plt.title('Index is: ' + str(index_viz), fontsize=20);"
   ]
  },
  {
   "cell_type": "code",
   "execution_count": null,
   "id": "ee7287b8",
   "metadata": {},
   "outputs": [],
   "source": [
    "df_viz1['seism_hrAvg'].astype(float)"
   ]
  },
  {
   "cell_type": "markdown",
   "id": "cd1c8d0d",
   "metadata": {},
   "source": [
    "### Extract features"
   ]
  },
  {
   "cell_type": "code",
   "execution_count": null,
   "id": "bf2f9a06",
   "metadata": {},
   "outputs": [],
   "source": [
    "display(df_melt.head(3))\n",
    "display(df_melt.tail(3))"
   ]
  },
  {
   "cell_type": "code",
   "execution_count": null,
   "id": "4556daca",
   "metadata": {},
   "outputs": [],
   "source": [
    "# df_melt['index'].value_counts()"
   ]
  },
  {
   "cell_type": "code",
   "execution_count": null,
   "id": "3bb1c760",
   "metadata": {},
   "outputs": [],
   "source": [
    "df_melt2 = df_melt[['index', 'seism_hrAvg', 'val']]"
   ]
  },
  {
   "cell_type": "code",
   "execution_count": null,
   "id": "7116913c",
   "metadata": {},
   "outputs": [],
   "source": [
    "display(df_melt2.head(3))\n",
    "display(df_melt2.tail(3))"
   ]
  },
  {
   "cell_type": "code",
   "execution_count": null,
   "id": "db1cf8b1",
   "metadata": {},
   "outputs": [],
   "source": [
    "extracted_features = extract_features(df_melt2, \n",
    "                                      column_id=\"index\", \n",
    "                                      column_sort=\"seism_hrAvg\")"
   ]
  },
  {
   "cell_type": "code",
   "execution_count": null,
   "id": "8990a361",
   "metadata": {},
   "outputs": [],
   "source": [
    "extracted_features.shape"
   ]
  },
  {
   "cell_type": "code",
   "execution_count": null,
   "id": "6bd1aee7",
   "metadata": {},
   "outputs": [],
   "source": [
    "# 368 negative cases and 93 positive\n",
    "print(368 + 93)"
   ]
  },
  {
   "cell_type": "code",
   "execution_count": null,
   "id": "229534fc",
   "metadata": {},
   "outputs": [],
   "source": [
    "extracted_features"
   ]
  },
  {
   "cell_type": "markdown",
   "id": "ce75e246",
   "metadata": {},
   "source": [
    "### Add y-labels"
   ]
  },
  {
   "cell_type": "code",
   "execution_count": null,
   "id": "90f0bf38",
   "metadata": {},
   "outputs": [],
   "source": [
    "print(extracted_features.shape, df['y'].shape)"
   ]
  },
  {
   "cell_type": "code",
   "execution_count": null,
   "id": "3a70fa99",
   "metadata": {},
   "outputs": [],
   "source": [
    "df_Xy_tsfresh = extracted_features.copy()\n",
    "df_Xy_tsfresh['y'] = df['y'].values"
   ]
  },
  {
   "cell_type": "code",
   "execution_count": null,
   "id": "5eacdd6e",
   "metadata": {},
   "outputs": [],
   "source": [
    "df_Xy_tsfresh.head(3)"
   ]
  },
  {
   "cell_type": "code",
   "execution_count": null,
   "id": "139871e6",
   "metadata": {},
   "outputs": [],
   "source": [
    "# df_Xy_tsfresh.to_csv('data_seismSeq1_tsfresh1.csv', index=False"
   ]
  },
  {
   "cell_type": "markdown",
   "id": "3706672a",
   "metadata": {},
   "source": [
    "### Ingest tsfresh featurized data"
   ]
  },
  {
   "cell_type": "code",
   "execution_count": 3,
   "id": "e05e4a3b",
   "metadata": {},
   "outputs": [
    {
     "name": "stdout",
     "output_type": "stream",
     "text": [
      "(461, 784)\n"
     ]
    },
    {
     "data": {
      "text/html": [
       "<div>\n",
       "<style scoped>\n",
       "    .dataframe tbody tr th:only-of-type {\n",
       "        vertical-align: middle;\n",
       "    }\n",
       "\n",
       "    .dataframe tbody tr th {\n",
       "        vertical-align: top;\n",
       "    }\n",
       "\n",
       "    .dataframe thead th {\n",
       "        text-align: right;\n",
       "    }\n",
       "</style>\n",
       "<table border=\"1\" class=\"dataframe\">\n",
       "  <thead>\n",
       "    <tr style=\"text-align: right;\">\n",
       "      <th></th>\n",
       "      <th>val__variance_larger_than_standard_deviation</th>\n",
       "      <th>val__has_duplicate_max</th>\n",
       "      <th>val__has_duplicate_min</th>\n",
       "      <th>val__has_duplicate</th>\n",
       "      <th>val__sum_values</th>\n",
       "      <th>val__abs_energy</th>\n",
       "      <th>val__mean_abs_change</th>\n",
       "      <th>val__mean_change</th>\n",
       "      <th>val__mean_second_derivative_central</th>\n",
       "      <th>val__median</th>\n",
       "      <th>...</th>\n",
       "      <th>val__fourier_entropy__bins_10</th>\n",
       "      <th>val__fourier_entropy__bins_100</th>\n",
       "      <th>val__permutation_entropy__dimension_3__tau_1</th>\n",
       "      <th>val__permutation_entropy__dimension_4__tau_1</th>\n",
       "      <th>val__permutation_entropy__dimension_5__tau_1</th>\n",
       "      <th>val__permutation_entropy__dimension_6__tau_1</th>\n",
       "      <th>val__permutation_entropy__dimension_7__tau_1</th>\n",
       "      <th>val__query_similarity_count__query_None__threshold_0.0</th>\n",
       "      <th>val__mean_n_absolute_max__number_of_maxima_7</th>\n",
       "      <th>y</th>\n",
       "    </tr>\n",
       "  </thead>\n",
       "  <tbody>\n",
       "    <tr>\n",
       "      <th>0</th>\n",
       "      <td>0.0</td>\n",
       "      <td>0.0</td>\n",
       "      <td>1.0</td>\n",
       "      <td>1.0</td>\n",
       "      <td>-1.600000e-06</td>\n",
       "      <td>511.000001</td>\n",
       "      <td>0.832267</td>\n",
       "      <td>0.000000</td>\n",
       "      <td>0.000000</td>\n",
       "      <td>-0.518009</td>\n",
       "      <td>...</td>\n",
       "      <td>1.936366</td>\n",
       "      <td>3.771542</td>\n",
       "      <td>1.135637</td>\n",
       "      <td>1.782047</td>\n",
       "      <td>2.433894</td>\n",
       "      <td>3.041385</td>\n",
       "      <td>3.594402</td>\n",
       "      <td>NaN</td>\n",
       "      <td>3.026608</td>\n",
       "      <td>1</td>\n",
       "    </tr>\n",
       "    <tr>\n",
       "      <th>1</th>\n",
       "      <td>0.0</td>\n",
       "      <td>0.0</td>\n",
       "      <td>1.0</td>\n",
       "      <td>1.0</td>\n",
       "      <td>-6.400000e-07</td>\n",
       "      <td>511.000001</td>\n",
       "      <td>0.564933</td>\n",
       "      <td>-0.004495</td>\n",
       "      <td>0.002252</td>\n",
       "      <td>-0.353115</td>\n",
       "      <td>...</td>\n",
       "      <td>1.553520</td>\n",
       "      <td>3.591347</td>\n",
       "      <td>0.722180</td>\n",
       "      <td>1.113370</td>\n",
       "      <td>1.497547</td>\n",
       "      <td>1.869238</td>\n",
       "      <td>2.212260</td>\n",
       "      <td>NaN</td>\n",
       "      <td>4.170268</td>\n",
       "      <td>0</td>\n",
       "    </tr>\n",
       "  </tbody>\n",
       "</table>\n",
       "<p>2 rows × 784 columns</p>\n",
       "</div>"
      ],
      "text/plain": [
       "   val__variance_larger_than_standard_deviation  val__has_duplicate_max  \\\n",
       "0                                           0.0                     0.0   \n",
       "1                                           0.0                     0.0   \n",
       "\n",
       "   val__has_duplicate_min  val__has_duplicate  val__sum_values  \\\n",
       "0                     1.0                 1.0    -1.600000e-06   \n",
       "1                     1.0                 1.0    -6.400000e-07   \n",
       "\n",
       "   val__abs_energy  val__mean_abs_change  val__mean_change  \\\n",
       "0       511.000001              0.832267          0.000000   \n",
       "1       511.000001              0.564933         -0.004495   \n",
       "\n",
       "   val__mean_second_derivative_central  val__median  ...  \\\n",
       "0                             0.000000    -0.518009  ...   \n",
       "1                             0.002252    -0.353115  ...   \n",
       "\n",
       "   val__fourier_entropy__bins_10  val__fourier_entropy__bins_100  \\\n",
       "0                       1.936366                        3.771542   \n",
       "1                       1.553520                        3.591347   \n",
       "\n",
       "   val__permutation_entropy__dimension_3__tau_1  \\\n",
       "0                                      1.135637   \n",
       "1                                      0.722180   \n",
       "\n",
       "   val__permutation_entropy__dimension_4__tau_1  \\\n",
       "0                                      1.782047   \n",
       "1                                      1.113370   \n",
       "\n",
       "   val__permutation_entropy__dimension_5__tau_1  \\\n",
       "0                                      2.433894   \n",
       "1                                      1.497547   \n",
       "\n",
       "   val__permutation_entropy__dimension_6__tau_1  \\\n",
       "0                                      3.041385   \n",
       "1                                      1.869238   \n",
       "\n",
       "   val__permutation_entropy__dimension_7__tau_1  \\\n",
       "0                                      3.594402   \n",
       "1                                      2.212260   \n",
       "\n",
       "   val__query_similarity_count__query_None__threshold_0.0  \\\n",
       "0                                                NaN        \n",
       "1                                                NaN        \n",
       "\n",
       "   val__mean_n_absolute_max__number_of_maxima_7  y  \n",
       "0                                      3.026608  1  \n",
       "1                                      4.170268  0  \n",
       "\n",
       "[2 rows x 784 columns]"
      ]
     },
     "metadata": {},
     "output_type": "display_data"
    }
   ],
   "source": [
    "df = pd.read_csv('./data_out/data_seismSeq1_tsfresh1.csv')\n",
    "print(df.shape)\n",
    "display(df.head(2))"
   ]
  },
  {
   "cell_type": "code",
   "execution_count": 5,
   "id": "f36893ee",
   "metadata": {},
   "outputs": [
    {
     "name": "stdout",
     "output_type": "stream",
     "text": [
      "(461, 784) (461, 783) (461, 1)\n"
     ]
    }
   ],
   "source": [
    "df_y = df[['y']]\n",
    "\n",
    "df_X = df.drop('y', axis=1)\n",
    "\n",
    "print(df.shape, df_X.shape, df_y.shape)"
   ]
  },
  {
   "cell_type": "code",
   "execution_count": 11,
   "id": "a813dbcf",
   "metadata": {},
   "outputs": [
    {
     "name": "stdout",
     "output_type": "stream",
     "text": [
      "(368, 783) (368, 1) (93, 783) (93, 1)\n"
     ]
    }
   ],
   "source": [
    "test_size = 0.2\n",
    "\n",
    "X_train, X_test, y_train, y_test = train_test_split(df_X, df_y, test_size=test_size, \n",
    "                                                                        stratify=df_y) # random_state=1\n",
    "\n",
    "print(X_train.shape, y_train.shape, X_test.shape, y_test.shape)"
   ]
  },
  {
   "cell_type": "markdown",
   "id": "1d5c01b4",
   "metadata": {},
   "source": [
    "### Initial ML check\n",
    "\n",
    "(is it the correct label order?)"
   ]
  },
  {
   "cell_type": "code",
   "execution_count": 12,
   "id": "28a5c9c4",
   "metadata": {},
   "outputs": [],
   "source": [
    "import xgboost as xgb"
   ]
  },
  {
   "cell_type": "code",
   "execution_count": null,
   "id": "f1500094",
   "metadata": {},
   "outputs": [],
   "source": [
    "# xgb.XGBClassifier.fit(extracted_features, df[['y']])"
   ]
  },
  {
   "cell_type": "code",
   "execution_count": 13,
   "id": "a634e383",
   "metadata": {},
   "outputs": [],
   "source": [
    "clf = xgb.XGBClassifier()\n",
    "#clf.fit(X_train, y_train)\n",
    "#y_pred = clf.predict(X_test)"
   ]
  },
  {
   "cell_type": "code",
   "execution_count": 14,
   "id": "2fdc098d",
   "metadata": {},
   "outputs": [
    {
     "data": {
      "text/html": [
       "<style>#sk-container-id-1 {color: black;background-color: white;}#sk-container-id-1 pre{padding: 0;}#sk-container-id-1 div.sk-toggleable {background-color: white;}#sk-container-id-1 label.sk-toggleable__label {cursor: pointer;display: block;width: 100%;margin-bottom: 0;padding: 0.3em;box-sizing: border-box;text-align: center;}#sk-container-id-1 label.sk-toggleable__label-arrow:before {content: \"▸\";float: left;margin-right: 0.25em;color: #696969;}#sk-container-id-1 label.sk-toggleable__label-arrow:hover:before {color: black;}#sk-container-id-1 div.sk-estimator:hover label.sk-toggleable__label-arrow:before {color: black;}#sk-container-id-1 div.sk-toggleable__content {max-height: 0;max-width: 0;overflow: hidden;text-align: left;background-color: #f0f8ff;}#sk-container-id-1 div.sk-toggleable__content pre {margin: 0.2em;color: black;border-radius: 0.25em;background-color: #f0f8ff;}#sk-container-id-1 input.sk-toggleable__control:checked~div.sk-toggleable__content {max-height: 200px;max-width: 100%;overflow: auto;}#sk-container-id-1 input.sk-toggleable__control:checked~label.sk-toggleable__label-arrow:before {content: \"▾\";}#sk-container-id-1 div.sk-estimator input.sk-toggleable__control:checked~label.sk-toggleable__label {background-color: #d4ebff;}#sk-container-id-1 div.sk-label input.sk-toggleable__control:checked~label.sk-toggleable__label {background-color: #d4ebff;}#sk-container-id-1 input.sk-hidden--visually {border: 0;clip: rect(1px 1px 1px 1px);clip: rect(1px, 1px, 1px, 1px);height: 1px;margin: -1px;overflow: hidden;padding: 0;position: absolute;width: 1px;}#sk-container-id-1 div.sk-estimator {font-family: monospace;background-color: #f0f8ff;border: 1px dotted black;border-radius: 0.25em;box-sizing: border-box;margin-bottom: 0.5em;}#sk-container-id-1 div.sk-estimator:hover {background-color: #d4ebff;}#sk-container-id-1 div.sk-parallel-item::after {content: \"\";width: 100%;border-bottom: 1px solid gray;flex-grow: 1;}#sk-container-id-1 div.sk-label:hover label.sk-toggleable__label {background-color: #d4ebff;}#sk-container-id-1 div.sk-serial::before {content: \"\";position: absolute;border-left: 1px solid gray;box-sizing: border-box;top: 0;bottom: 0;left: 50%;z-index: 0;}#sk-container-id-1 div.sk-serial {display: flex;flex-direction: column;align-items: center;background-color: white;padding-right: 0.2em;padding-left: 0.2em;position: relative;}#sk-container-id-1 div.sk-item {position: relative;z-index: 1;}#sk-container-id-1 div.sk-parallel {display: flex;align-items: stretch;justify-content: center;background-color: white;position: relative;}#sk-container-id-1 div.sk-item::before, #sk-container-id-1 div.sk-parallel-item::before {content: \"\";position: absolute;border-left: 1px solid gray;box-sizing: border-box;top: 0;bottom: 0;left: 50%;z-index: -1;}#sk-container-id-1 div.sk-parallel-item {display: flex;flex-direction: column;z-index: 1;position: relative;background-color: white;}#sk-container-id-1 div.sk-parallel-item:first-child::after {align-self: flex-end;width: 50%;}#sk-container-id-1 div.sk-parallel-item:last-child::after {align-self: flex-start;width: 50%;}#sk-container-id-1 div.sk-parallel-item:only-child::after {width: 0;}#sk-container-id-1 div.sk-dashed-wrapped {border: 1px dashed gray;margin: 0 0.4em 0.5em 0.4em;box-sizing: border-box;padding-bottom: 0.4em;background-color: white;}#sk-container-id-1 div.sk-label label {font-family: monospace;font-weight: bold;display: inline-block;line-height: 1.2em;}#sk-container-id-1 div.sk-label-container {text-align: center;}#sk-container-id-1 div.sk-container {/* jupyter's `normalize.less` sets `[hidden] { display: none; }` but bootstrap.min.css set `[hidden] { display: none !important; }` so we also need the `!important` here to be able to override the default hidden behavior on the sphinx rendered scikit-learn.org. See: https://github.com/scikit-learn/scikit-learn/issues/21755 */display: inline-block !important;position: relative;}#sk-container-id-1 div.sk-text-repr-fallback {display: none;}</style><div id=\"sk-container-id-1\" class=\"sk-top-container\"><div class=\"sk-text-repr-fallback\"><pre>XGBClassifier(base_score=None, booster=None, callbacks=None,\n",
       "              colsample_bylevel=None, colsample_bynode=None,\n",
       "              colsample_bytree=None, early_stopping_rounds=None,\n",
       "              enable_categorical=False, eval_metric=None, feature_types=None,\n",
       "              gamma=None, gpu_id=None, grow_policy=None, importance_type=None,\n",
       "              interaction_constraints=None, learning_rate=None, max_bin=None,\n",
       "              max_cat_threshold=None, max_cat_to_onehot=None,\n",
       "              max_delta_step=None, max_depth=None, max_leaves=None,\n",
       "              min_child_weight=None, missing=nan, monotone_constraints=None,\n",
       "              n_estimators=100, n_jobs=None, num_parallel_tree=None,\n",
       "              predictor=None, random_state=None, ...)</pre><b>In a Jupyter environment, please rerun this cell to show the HTML representation or trust the notebook. <br />On GitHub, the HTML representation is unable to render, please try loading this page with nbviewer.org.</b></div><div class=\"sk-container\" hidden><div class=\"sk-item\"><div class=\"sk-estimator sk-toggleable\"><input class=\"sk-toggleable__control sk-hidden--visually\" id=\"sk-estimator-id-1\" type=\"checkbox\" checked><label for=\"sk-estimator-id-1\" class=\"sk-toggleable__label sk-toggleable__label-arrow\">XGBClassifier</label><div class=\"sk-toggleable__content\"><pre>XGBClassifier(base_score=None, booster=None, callbacks=None,\n",
       "              colsample_bylevel=None, colsample_bynode=None,\n",
       "              colsample_bytree=None, early_stopping_rounds=None,\n",
       "              enable_categorical=False, eval_metric=None, feature_types=None,\n",
       "              gamma=None, gpu_id=None, grow_policy=None, importance_type=None,\n",
       "              interaction_constraints=None, learning_rate=None, max_bin=None,\n",
       "              max_cat_threshold=None, max_cat_to_onehot=None,\n",
       "              max_delta_step=None, max_depth=None, max_leaves=None,\n",
       "              min_child_weight=None, missing=nan, monotone_constraints=None,\n",
       "              n_estimators=100, n_jobs=None, num_parallel_tree=None,\n",
       "              predictor=None, random_state=None, ...)</pre></div></div></div></div></div>"
      ],
      "text/plain": [
       "XGBClassifier(base_score=None, booster=None, callbacks=None,\n",
       "              colsample_bylevel=None, colsample_bynode=None,\n",
       "              colsample_bytree=None, early_stopping_rounds=None,\n",
       "              enable_categorical=False, eval_metric=None, feature_types=None,\n",
       "              gamma=None, gpu_id=None, grow_policy=None, importance_type=None,\n",
       "              interaction_constraints=None, learning_rate=None, max_bin=None,\n",
       "              max_cat_threshold=None, max_cat_to_onehot=None,\n",
       "              max_delta_step=None, max_depth=None, max_leaves=None,\n",
       "              min_child_weight=None, missing=nan, monotone_constraints=None,\n",
       "              n_estimators=100, n_jobs=None, num_parallel_tree=None,\n",
       "              predictor=None, random_state=None, ...)"
      ]
     },
     "execution_count": 14,
     "metadata": {},
     "output_type": "execute_result"
    }
   ],
   "source": [
    "clf.fit(X_train, y_train)"
   ]
  },
  {
   "cell_type": "code",
   "execution_count": 15,
   "id": "94786834",
   "metadata": {},
   "outputs": [],
   "source": [
    "y_pred = clf.predict(X_test)"
   ]
  },
  {
   "cell_type": "code",
   "execution_count": 16,
   "id": "8be052d2",
   "metadata": {},
   "outputs": [],
   "source": [
    "def eval_ml_model(label, y_test_in, y_pred_in):\n",
    "    \"\"\"\n",
    "    Evaluate maching learning (ML) model, binary classification\n",
    "    \"\"\"\n",
    "    print(label)\n",
    "    print(\" \")\n",
    "    \n",
    "    score_accuracy = accuracy_score(y_test_in, y_pred_in)\n",
    "    score_precision = precision_score(y_test_in, y_pred_in)\n",
    "    score_recall = recall_score(y_test_in, y_pred_in)\n",
    "    score_f1 = f1_score(y_test_in, y_pred_in)\n",
    "    score_roc_auc = roc_auc_score(y_test_in, y_pred_in)\n",
    "    score_confmat = confusion_matrix(y_test_in, y_pred_in)\n",
    "    \n",
    "    print('Accuracy: ', score_accuracy)\n",
    "    print('Precision: ', score_precision)\n",
    "    print('Recall: ', score_recall)\n",
    "    print('F1: ', score_f1)\n",
    "    print('ROC_AUC:', score_roc_auc)\n",
    "    print(score_confmat)\n",
    "    viz_confusion_matrix(score_confmat)\n",
    "    print(\" \")\n",
    "    \n",
    "def viz_confusion_matrix(confmat):\n",
    "    fig, ax = plt.subplots(figsize=(2.5, 2.5))\n",
    "    ax.matshow(confmat, cmap=plt.cm.Blues, alpha=0.3)\n",
    "    for i in range(confmat.shape[0]):\n",
    "        for j in range(confmat.shape[1]):\n",
    "            ax.text(x=j, y=i, s=confmat[i, j], va='center', ha='center')\n",
    "\n",
    "    plt.xlabel('predicted label')\n",
    "    plt.ylabel('true label')\n",
    "\n",
    "    plt.tight_layout()\n",
    "    # plt.savefig('./figures/confusion_matrix.png', dpi=300)\n",
    "    plt.show()"
   ]
  },
  {
   "cell_type": "code",
   "execution_count": 17,
   "id": "c8f1884e",
   "metadata": {
    "scrolled": false
   },
   "outputs": [
    {
     "name": "stdout",
     "output_type": "stream",
     "text": [
      "xgb1\n",
      " \n"
     ]
    },
    {
     "name": "stderr",
     "output_type": "stream",
     "text": [
      "C:\\ProgramData\\Anaconda2021_05\\envs\\timeseq2\\lib\\site-packages\\sklearn\\metrics\\_classification.py:1344: UndefinedMetricWarning: Precision is ill-defined and being set to 0.0 due to no predicted samples. Use `zero_division` parameter to control this behavior.\n",
      "  _warn_prf(average, modifier, msg_start, len(result))\n"
     ]
    },
    {
     "name": "stdout",
     "output_type": "stream",
     "text": [
      "Accuracy:  0.7956989247311828\n",
      "Precision:  0.0\n",
      "Recall:  0.0\n",
      "F1:  0.0\n",
      "ROC_AUC: 0.5\n",
      "[[74  0]\n",
      " [19  0]]\n"
     ]
    },
    {
     "data": {
      "image/png": "[encoded data removed]",
      "text/plain": [
       "<Figure size 250x250 with 1 Axes>"
      ]
     },
     "metadata": {},
     "output_type": "display_data"
    },
    {
     "name": "stdout",
     "output_type": "stream",
     "text": [
      " \n"
     ]
    }
   ],
   "source": [
    "eval_ml_model('xgb1', y_test, y_pred)"
   ]
  },
  {
   "cell_type": "code",
   "execution_count": 20,
   "id": "bfd94d22",
   "metadata": {},
   "outputs": [
    {
     "data": {
      "text/plain": [
       "0    294\n",
       "1     74\n",
       "Name: y, dtype: int64"
      ]
     },
     "metadata": {},
     "output_type": "display_data"
    },
    {
     "data": {
      "text/plain": [
       "0    74\n",
       "1    19\n",
       "Name: y, dtype: int64"
      ]
     },
     "metadata": {},
     "output_type": "display_data"
    }
   ],
   "source": [
    "display(y_train['y'].value_counts())\n",
    "display(y_test['y'].value_counts())"
   ]
  },
  {
   "cell_type": "markdown",
   "id": "5829fa22",
   "metadata": {},
   "source": [
    "### ML check on \"raw\" time seq data"
   ]
  },
  {
   "cell_type": "code",
   "execution_count": 21,
   "id": "b214448f",
   "metadata": {},
   "outputs": [],
   "source": [
    "df = pd.read_csv('../data_seismSeq1/data_seismic_BagnallTimeSeriesClassification.csv')"
   ]
  },
  {
   "cell_type": "code",
   "execution_count": 22,
   "id": "002e6fca",
   "metadata": {},
   "outputs": [
    {
     "data": {
      "text/html": [
       "<div>\n",
       "<style scoped>\n",
       "    .dataframe tbody tr th:only-of-type {\n",
       "        vertical-align: middle;\n",
       "    }\n",
       "\n",
       "    .dataframe tbody tr th {\n",
       "        vertical-align: top;\n",
       "    }\n",
       "\n",
       "    .dataframe thead th {\n",
       "        text-align: right;\n",
       "    }\n",
       "</style>\n",
       "<table border=\"1\" class=\"dataframe\">\n",
       "  <thead>\n",
       "    <tr style=\"text-align: right;\">\n",
       "      <th></th>\n",
       "      <th>0</th>\n",
       "      <th>1</th>\n",
       "      <th>2</th>\n",
       "      <th>3</th>\n",
       "      <th>4</th>\n",
       "      <th>5</th>\n",
       "      <th>6</th>\n",
       "      <th>7</th>\n",
       "      <th>8</th>\n",
       "      <th>9</th>\n",
       "      <th>...</th>\n",
       "      <th>503</th>\n",
       "      <th>504</th>\n",
       "      <th>505</th>\n",
       "      <th>506</th>\n",
       "      <th>507</th>\n",
       "      <th>508</th>\n",
       "      <th>509</th>\n",
       "      <th>510</th>\n",
       "      <th>511</th>\n",
       "      <th>y</th>\n",
       "    </tr>\n",
       "  </thead>\n",
       "  <tbody>\n",
       "    <tr>\n",
       "      <th>0</th>\n",
       "      <td>-0.518009</td>\n",
       "      <td>-0.518009</td>\n",
       "      <td>2.654211</td>\n",
       "      <td>-0.518009</td>\n",
       "      <td>-0.518009</td>\n",
       "      <td>-0.518009</td>\n",
       "      <td>-0.518009</td>\n",
       "      <td>1.456243</td>\n",
       "      <td>2.558373</td>\n",
       "      <td>-0.518009</td>\n",
       "      <td>...</td>\n",
       "      <td>-0.518009</td>\n",
       "      <td>-0.518009</td>\n",
       "      <td>-0.518009</td>\n",
       "      <td>-0.518009</td>\n",
       "      <td>-0.518009</td>\n",
       "      <td>-0.518009</td>\n",
       "      <td>-0.518009</td>\n",
       "      <td>1.465826</td>\n",
       "      <td>-0.518009</td>\n",
       "      <td>1</td>\n",
       "    </tr>\n",
       "    <tr>\n",
       "      <th>1</th>\n",
       "      <td>1.943733</td>\n",
       "      <td>-0.353115</td>\n",
       "      <td>-0.353115</td>\n",
       "      <td>-0.353115</td>\n",
       "      <td>-0.353115</td>\n",
       "      <td>-0.353115</td>\n",
       "      <td>-0.353115</td>\n",
       "      <td>-0.353115</td>\n",
       "      <td>-0.353115</td>\n",
       "      <td>-0.353115</td>\n",
       "      <td>...</td>\n",
       "      <td>3.365590</td>\n",
       "      <td>-0.353115</td>\n",
       "      <td>-0.353115</td>\n",
       "      <td>-0.353115</td>\n",
       "      <td>-0.353115</td>\n",
       "      <td>-0.353115</td>\n",
       "      <td>-0.353115</td>\n",
       "      <td>-0.353115</td>\n",
       "      <td>-0.353115</td>\n",
       "      <td>0</td>\n",
       "    </tr>\n",
       "    <tr>\n",
       "      <th>2</th>\n",
       "      <td>2.638517</td>\n",
       "      <td>-0.316102</td>\n",
       "      <td>-0.316102</td>\n",
       "      <td>-0.316102</td>\n",
       "      <td>-0.316102</td>\n",
       "      <td>-0.316102</td>\n",
       "      <td>-0.316102</td>\n",
       "      <td>-0.316102</td>\n",
       "      <td>-0.316102</td>\n",
       "      <td>-0.316102</td>\n",
       "      <td>...</td>\n",
       "      <td>-0.316102</td>\n",
       "      <td>-0.316102</td>\n",
       "      <td>-0.316102</td>\n",
       "      <td>-0.316102</td>\n",
       "      <td>-0.316102</td>\n",
       "      <td>-0.316102</td>\n",
       "      <td>-0.316102</td>\n",
       "      <td>-0.316102</td>\n",
       "      <td>-0.316102</td>\n",
       "      <td>0</td>\n",
       "    </tr>\n",
       "  </tbody>\n",
       "</table>\n",
       "<p>3 rows × 513 columns</p>\n",
       "</div>"
      ],
      "text/plain": [
       "          0         1         2         3         4         5         6  \\\n",
       "0 -0.518009 -0.518009  2.654211 -0.518009 -0.518009 -0.518009 -0.518009   \n",
       "1  1.943733 -0.353115 -0.353115 -0.353115 -0.353115 -0.353115 -0.353115   \n",
       "2  2.638517 -0.316102 -0.316102 -0.316102 -0.316102 -0.316102 -0.316102   \n",
       "\n",
       "          7         8         9  ...       503       504       505       506  \\\n",
       "0  1.456243  2.558373 -0.518009  ... -0.518009 -0.518009 -0.518009 -0.518009   \n",
       "1 -0.353115 -0.353115 -0.353115  ...  3.365590 -0.353115 -0.353115 -0.353115   \n",
       "2 -0.316102 -0.316102 -0.316102  ... -0.316102 -0.316102 -0.316102 -0.316102   \n",
       "\n",
       "        507       508       509       510       511  y  \n",
       "0 -0.518009 -0.518009 -0.518009  1.465826 -0.518009  1  \n",
       "1 -0.353115 -0.353115 -0.353115 -0.353115 -0.353115  0  \n",
       "2 -0.316102 -0.316102 -0.316102 -0.316102 -0.316102  0  \n",
       "\n",
       "[3 rows x 513 columns]"
      ]
     },
     "execution_count": 22,
     "metadata": {},
     "output_type": "execute_result"
    }
   ],
   "source": [
    "df.head(3)"
   ]
  },
  {
   "cell_type": "code",
   "execution_count": 23,
   "id": "6369af1a",
   "metadata": {},
   "outputs": [
    {
     "name": "stdout",
     "output_type": "stream",
     "text": [
      "(461, 513) (461, 512) (461, 1)\n"
     ]
    }
   ],
   "source": [
    "df_y = df[['y']]\n",
    "df_X = df.drop('y', axis=1)\n",
    "\n",
    "print(df.shape, df_X.shape, df_y.shape)"
   ]
  },
  {
   "cell_type": "code",
   "execution_count": 24,
   "id": "f44ee5d5",
   "metadata": {},
   "outputs": [
    {
     "name": "stdout",
     "output_type": "stream",
     "text": [
      "(368, 512) (368, 1) (93, 512) (93, 1)\n"
     ]
    }
   ],
   "source": [
    "test_size = 0.2\n",
    "\n",
    "X_train, X_test, y_train, y_test = train_test_split(df_X, df_y, test_size=test_size, \n",
    "                                                                        stratify=df_y) # random_state=1\n",
    "\n",
    "print(X_train.shape, y_train.shape, X_test.shape, y_test.shape)"
   ]
  },
  {
   "cell_type": "code",
   "execution_count": 25,
   "id": "1e59559f",
   "metadata": {},
   "outputs": [],
   "source": [
    "clf_raw = xgb.XGBClassifier()\n",
    "clf_raw.fit(X_train, y_train)\n",
    "y_pred_raw = clf_raw.predict(X_test)"
   ]
  },
  {
   "cell_type": "code",
   "execution_count": 27,
   "id": "2971af27",
   "metadata": {},
   "outputs": [
    {
     "name": "stdout",
     "output_type": "stream",
     "text": [
      "xgb_raw\n",
      " \n",
      "Accuracy:  0.7956989247311828\n",
      "Precision:  0.5\n",
      "Recall:  0.15789473684210525\n",
      "F1:  0.23999999999999996\n",
      "ROC_AUC: 0.5586770981507824\n",
      "[[71  3]\n",
      " [16  3]]\n"
     ]
    },
    {
     "data": {
      "image/png": "[encoded data removed]",
      "text/plain": [
       "<Figure size 250x250 with 1 Axes>"
      ]
     },
     "metadata": {},
     "output_type": "display_data"
    },
    {
     "name": "stdout",
     "output_type": "stream",
     "text": [
      " \n"
     ]
    }
   ],
   "source": [
    "eval_ml_model('xgb_raw', y_test, y_pred_raw)"
   ]
  },
  {
   "cell_type": "code",
   "execution_count": null,
   "id": "8477f232",
   "metadata": {},
   "outputs": [],
   "source": []
  }
 ],
 "metadata": {
  "kernelspec": {
   "display_name": "Python 3 (ipykernel)",
   "language": "python",
   "name": "python3"
  },
  "language_info": {
   "codemirror_mode": {
    "name": "ipython",
    "version": 3
   },
   "file_extension": ".py",
   "mimetype": "text/x-python",
   "name": "python",
   "nbconvert_exporter": "python",
   "pygments_lexer": "ipython3",
   "version": "3.10.9"
  }
 },
 "nbformat": 4,
 "nbformat_minor": 5
}
