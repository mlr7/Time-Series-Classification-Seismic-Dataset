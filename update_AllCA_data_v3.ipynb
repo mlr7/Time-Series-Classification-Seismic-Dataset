{
 "cells": [
  {
   "cell_type": "code",
   "execution_count": null,
   "id": "59a38d29",
   "metadata": {},
   "outputs": [],
   "source": []
  },
  {
   "cell_type": "code",
   "execution_count": null,
   "id": "3b6db7ba",
   "metadata": {},
   "outputs": [],
   "source": [
    "# https://github.com/mlr7/63-Years-of-Seismicity-in-California/blob/main/seismic_california_iris_1960to2023sept_v6.ipynb"
   ]
  },
  {
   "cell_type": "code",
   "execution_count": 1,
   "id": "a4de743c",
   "metadata": {},
   "outputs": [],
   "source": [
    "%matplotlib inline\n",
    "\n",
    "import numpy as np\n",
    "import pandas as pd\n",
    "\n",
    "import matplotlib.pyplot as plt\n",
    "\n",
    "# fdsn client for connecting with web services, data pull\n",
    "from obspy.clients.fdsn import Client\n",
    "from obspy import UTCDateTime\n",
    "\n",
    "from datetime import datetime, timedelta\n",
    "\n",
    "import math # rounding\n",
    "\n",
    "import warnings\n",
    "warnings.filterwarnings(\"ignore\")"
   ]
  },
  {
   "cell_type": "code",
   "execution_count": null,
   "id": "f6727ede",
   "metadata": {},
   "outputs": [],
   "source": [
    "# Draw box on map and get lat/lon out\n",
    "# https://earthquake.usgs.gov/earthquakes/search/\n",
    "\n",
    "# Enter a lat/lon box and viz on map\n",
    "#https://dwtkns.com/pointplotter/\n",
    "#https://earthquake.usgs.gov/earthquakes/search/"
   ]
  },
  {
   "cell_type": "code",
   "execution_count": 2,
   "id": "34e4d205",
   "metadata": {},
   "outputs": [],
   "source": [
    "# All California lat/lon box:\n",
    "\n",
    "longitude_xmax = -109.83\n",
    "longitude_xmin = -127.672\n",
    "\n",
    "latitude_ymax = 42.461\n",
    "latitude_ymin = 28.938\n",
    "\n",
    "# Useful notes:\n",
    "\n",
    "#  longitude are verical lines on globe, parallel to prime meridian (longitude is x-axis tick marks!)\n",
    "#  latitude are horiontal lines on globe, parallel to equator (latitude is y-axis tick marks!)\n",
    "\n",
    "# Example:  latitude of California, USA is 36.778259, and the longitude is -119.417931\n",
    "# Example:  Latitude of Pasadena, CA, USA is 34.156113, and the longitude is -118.131943. \n",
    "\n",
    "# https://www.yourdictionary.com/articles/latitude-vs-longitude\n",
    "\n",
    "# Longitude is the points east and west of the prime meridian. \n",
    "# Longitude is x-axis tick marks!\n",
    "\n",
    "# Latitude is the points north and south of the equator.\n",
    "# latitude is y-axis tick marks!"
   ]
  },
  {
   "cell_type": "code",
   "execution_count": 3,
   "id": "bce5b2e6",
   "metadata": {},
   "outputs": [
    {
     "name": "stdout",
     "output_type": "stream",
     "text": [
      "-109.83 -109\n",
      "-127.672 -128\n",
      " \n",
      "42.461 43\n",
      "28.938 28\n"
     ]
    }
   ],
   "source": [
    "longitude_xmax_ceil = math.ceil(longitude_xmax)\n",
    "longitude_xmin_floor = math.floor(longitude_xmin)\n",
    "\n",
    "latitude_ymax_ceil = math.ceil(latitude_ymax)\n",
    "latitude_ymin_floor = math.floor(latitude_ymin)\n",
    "\n",
    "print(longitude_xmax, longitude_xmax_ceil)\n",
    "print(longitude_xmin, longitude_xmin_floor)\n",
    "print(\" \")\n",
    "print(latitude_ymax, latitude_ymax_ceil)\n",
    "print(latitude_ymin, latitude_ymin_floor)"
   ]
  },
  {
   "cell_type": "code",
   "execution_count": 4,
   "id": "579d3eee",
   "metadata": {},
   "outputs": [],
   "source": [
    "iris_client = Client(\"IRIS\", timeout=90000) #600 is reasonable timeout"
   ]
  },
  {
   "cell_type": "code",
   "execution_count": 5,
   "id": "9f3d9362",
   "metadata": {},
   "outputs": [],
   "source": [
    "cat = []\n",
    "cat = iris_client.get_events(\n",
    "                           minlat= latitude_ymin_floor, #ventura_minlat,\n",
    "                           maxlat= latitude_ymax_ceil, #ventura_maxlat,\n",
    "                           minlon= longitude_xmin_floor, #ventura_minlon,\n",
    "                           maxlon= longitude_xmax_ceil, #ventura_maxlon,\n",
    "                           starttime=UTCDateTime(\"1900-01-01\"),\n",
    "                           endtime=UTCDateTime(\"2023-11-01\"),\n",
    "                           minmag=0.0) # 2.0"
   ]
  },
  {
   "cell_type": "code",
   "execution_count": 6,
   "id": "8381cf25",
   "metadata": {},
   "outputs": [],
   "source": [
    "times = []\n",
    "lats = []\n",
    "lons = []\n",
    "deps = []\n",
    "magnitudes = []\n",
    "magnitudestype = []\n",
    "for event in cat:\n",
    "    if len(event.origins) != 0 and len(event.magnitudes) != 0:\n",
    "        times.append(event.origins[0].time.datetime)\n",
    "        lats.append(event.origins[0].latitude)\n",
    "        lons.append(event.origins[0].longitude)\n",
    "        deps.append(event.origins[0].depth)\n",
    "        magnitudes.append(event.magnitudes[0].mag)\n",
    "        magnitudestype.append(event.magnitudes[0].magnitude_type )"
   ]
  },
  {
   "cell_type": "code",
   "execution_count": 7,
   "id": "1fe21958",
   "metadata": {},
   "outputs": [
    {
     "name": "stdout",
     "output_type": "stream",
     "text": [
      "(562542, 6)\n",
      "Index(['datetime', 'lat', 'lon', 'depth', 'mag', 'type'], dtype='object')\n"
     ]
    },
    {
     "data": {
      "text/html": [
       "<div>\n",
       "<style scoped>\n",
       "    .dataframe tbody tr th:only-of-type {\n",
       "        vertical-align: middle;\n",
       "    }\n",
       "\n",
       "    .dataframe tbody tr th {\n",
       "        vertical-align: top;\n",
       "    }\n",
       "\n",
       "    .dataframe thead th {\n",
       "        text-align: right;\n",
       "    }\n",
       "</style>\n",
       "<table border=\"1\" class=\"dataframe\">\n",
       "  <thead>\n",
       "    <tr style=\"text-align: right;\">\n",
       "      <th></th>\n",
       "      <th>datetime</th>\n",
       "      <th>lat</th>\n",
       "      <th>lon</th>\n",
       "      <th>depth</th>\n",
       "      <th>mag</th>\n",
       "      <th>type</th>\n",
       "    </tr>\n",
       "  </thead>\n",
       "  <tbody>\n",
       "    <tr>\n",
       "      <th>0</th>\n",
       "      <td>1960-01-20 03:25:49</td>\n",
       "      <td>36.56</td>\n",
       "      <td>-121.71</td>\n",
       "      <td>0.0</td>\n",
       "      <td>5.0</td>\n",
       "      <td>None</td>\n",
       "    </tr>\n",
       "    <tr>\n",
       "      <th>1</th>\n",
       "      <td>1960-02-27 19:22:25</td>\n",
       "      <td>37.93</td>\n",
       "      <td>-122.02</td>\n",
       "      <td>NaN</td>\n",
       "      <td>3.4</td>\n",
       "      <td>None</td>\n",
       "    </tr>\n",
       "    <tr>\n",
       "      <th>2</th>\n",
       "      <td>1960-03-16 08:21:38</td>\n",
       "      <td>34.37</td>\n",
       "      <td>-118.93</td>\n",
       "      <td>NaN</td>\n",
       "      <td>3.2</td>\n",
       "      <td>None</td>\n",
       "    </tr>\n",
       "    <tr>\n",
       "      <th>3</th>\n",
       "      <td>1960-03-22 18:31:33</td>\n",
       "      <td>37.73</td>\n",
       "      <td>-122.13</td>\n",
       "      <td>NaN</td>\n",
       "      <td>2.6</td>\n",
       "      <td>None</td>\n",
       "    </tr>\n",
       "  </tbody>\n",
       "</table>\n",
       "</div>"
      ],
      "text/plain": [
       "             datetime    lat     lon  depth  mag  type\n",
       "0 1960-01-20 03:25:49  36.56 -121.71    0.0  5.0  None\n",
       "1 1960-02-27 19:22:25  37.93 -122.02    NaN  3.4  None\n",
       "2 1960-03-16 08:21:38  34.37 -118.93    NaN  3.2  None\n",
       "3 1960-03-22 18:31:33  37.73 -122.13    NaN  2.6  None"
      ]
     },
     "metadata": {},
     "output_type": "display_data"
    },
    {
     "data": {
      "text/html": [
       "<div>\n",
       "<style scoped>\n",
       "    .dataframe tbody tr th:only-of-type {\n",
       "        vertical-align: middle;\n",
       "    }\n",
       "\n",
       "    .dataframe tbody tr th {\n",
       "        vertical-align: top;\n",
       "    }\n",
       "\n",
       "    .dataframe thead th {\n",
       "        text-align: right;\n",
       "    }\n",
       "</style>\n",
       "<table border=\"1\" class=\"dataframe\">\n",
       "  <thead>\n",
       "    <tr style=\"text-align: right;\">\n",
       "      <th></th>\n",
       "      <th>datetime</th>\n",
       "      <th>lat</th>\n",
       "      <th>lon</th>\n",
       "      <th>depth</th>\n",
       "      <th>mag</th>\n",
       "      <th>type</th>\n",
       "    </tr>\n",
       "  </thead>\n",
       "  <tbody>\n",
       "    <tr>\n",
       "      <th>562538</th>\n",
       "      <td>2023-10-29 08:46:21.520</td>\n",
       "      <td>38.833668</td>\n",
       "      <td>-122.815834</td>\n",
       "      <td>1210.0</td>\n",
       "      <td>1.52</td>\n",
       "      <td>Md</td>\n",
       "    </tr>\n",
       "    <tr>\n",
       "      <th>562539</th>\n",
       "      <td>2023-10-29 09:01:19.990</td>\n",
       "      <td>38.687832</td>\n",
       "      <td>-122.501663</td>\n",
       "      <td>2420.0</td>\n",
       "      <td>1.69</td>\n",
       "      <td>Md</td>\n",
       "    </tr>\n",
       "    <tr>\n",
       "      <th>562540</th>\n",
       "      <td>2023-10-29 09:14:05.360</td>\n",
       "      <td>38.789665</td>\n",
       "      <td>-122.759499</td>\n",
       "      <td>330.0</td>\n",
       "      <td>1.36</td>\n",
       "      <td>Md</td>\n",
       "    </tr>\n",
       "    <tr>\n",
       "      <th>562541</th>\n",
       "      <td>2023-10-29 09:38:22.500</td>\n",
       "      <td>33.666833</td>\n",
       "      <td>-116.747333</td>\n",
       "      <td>12290.0</td>\n",
       "      <td>0.89</td>\n",
       "      <td>Ml</td>\n",
       "    </tr>\n",
       "  </tbody>\n",
       "</table>\n",
       "</div>"
      ],
      "text/plain": [
       "                      datetime        lat         lon    depth   mag type\n",
       "562538 2023-10-29 08:46:21.520  38.833668 -122.815834   1210.0  1.52   Md\n",
       "562539 2023-10-29 09:01:19.990  38.687832 -122.501663   2420.0  1.69   Md\n",
       "562540 2023-10-29 09:14:05.360  38.789665 -122.759499    330.0  1.36   Md\n",
       "562541 2023-10-29 09:38:22.500  33.666833 -116.747333  12290.0  0.89   Ml"
      ]
     },
     "metadata": {},
     "output_type": "display_data"
    }
   ],
   "source": [
    "df = pd.DataFrame({'datetime':times, 'lat':lats,'lon':lons,'depth':deps,\n",
    "                   'mag':magnitudes,'type':magnitudestype})\n",
    "\n",
    "df['datetime'] = pd.to_datetime(df['datetime'])\n",
    "df = df.sort_values(by='datetime')\n",
    "df = df.reset_index(drop=True)\n",
    "\n",
    "print(df.shape)\n",
    "print(df.columns)\n",
    "display(df.head(4))\n",
    "display(df.tail(4))"
   ]
  },
  {
   "cell_type": "code",
   "execution_count": 8,
   "id": "63ca9d77",
   "metadata": {},
   "outputs": [],
   "source": [
    "# df.to_csv('data_obspy_iris_AllCalBox_1960_to_2023sept24_20230924a.csv', index=False)\n",
    "\n",
    "# df.to_csv('data_obspy_iris_AllCalBox_1960_to_2023oct29_20231029a.csv', index=False)"
   ]
  },
  {
   "cell_type": "code",
   "execution_count": null,
   "id": "1a0d7d4d",
   "metadata": {},
   "outputs": [],
   "source": []
  }
 ],
 "metadata": {
  "kernelspec": {
   "display_name": "Python 3",
   "language": "python",
   "name": "python3"
  },
  "language_info": {
   "codemirror_mode": {
    "name": "ipython",
    "version": 3
   },
   "file_extension": ".py",
   "mimetype": "text/x-python",
   "name": "python",
   "nbconvert_exporter": "python",
   "pygments_lexer": "ipython3",
   "version": "3.8.8"
  }
 },
 "nbformat": 4,
 "nbformat_minor": 5
}
